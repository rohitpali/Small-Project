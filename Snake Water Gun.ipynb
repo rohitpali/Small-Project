{
 "cells": [
  {
   "attachments": {},
   "cell_type": "markdown",
   "metadata": {},
   "source": [
    "Snake Water Gun Game"
   ]
  },
  {
   "cell_type": "code",
   "execution_count": 1,
   "metadata": {},
   "outputs": [
    {
     "name": "stdout",
     "output_type": "stream",
     "text": [
      "Comp Turn: snake(s) water(w) or gun(g) ? \n",
      "computer choose: s\n",
      "you choose: g\n",
      "you win!\n"
     ]
    }
   ],
   "source": [
    "import random\n",
    "\n",
    "def gamewin(comp,you):\n",
    "    if comp==you:\n",
    "        return None\n",
    "    elif comp=='s':\n",
    "        if you=='w':\n",
    "            return False\n",
    "        elif you=='g':\n",
    "            return True\n",
    "        elif comp=='w':\n",
    "            if you=='g':\n",
    "                return False\n",
    "            elif you=='s':\n",
    "                return True\n",
    "        elif comp=='g':\n",
    "            if you=='s':\n",
    "                return False\n",
    "            elif you=='w':\n",
    "                return True\n",
    "\n",
    "print(\"Comp Turn: snake(s) water(w) or gun(g) ? \")\n",
    "randoNo=random.randint(1,3)\n",
    "if randoNo==1:\n",
    "    comp='s'\n",
    "elif randoNo==2:\n",
    "    comp='w'\n",
    "elif randoNo==3:\n",
    "    comp='g'\n",
    "\n",
    "\n",
    "you=input(\"your turn : snake(s) water(w) or gun(g) ?\")\n",
    "a=gamewin(comp,you)\n",
    "\n",
    "print(f\"computer choose: {comp}\")\n",
    "print(f\"you choose: {you}\")\n",
    "\n",
    "if a == None:\n",
    "    print(\"The Game Is Tie !\")\n",
    "elif a:\n",
    "    print(\"you win!\")\n",
    "else:\n",
    "    print(\"you lose!\")"
   ]
  }
 ],
 "metadata": {
  "kernelspec": {
   "display_name": "Python 3",
   "language": "python",
   "name": "python3"
  },
  "language_info": {
   "codemirror_mode": {
    "name": "ipython",
    "version": 3
   },
   "file_extension": ".py",
   "mimetype": "text/x-python",
   "name": "python",
   "nbconvert_exporter": "python",
   "pygments_lexer": "ipython3",
   "version": "3.7.9"
  },
  "orig_nbformat": 4,
  "vscode": {
   "interpreter": {
    "hash": "5109d816b82be14675a6b11f8e0f0d2e80f029176ed3710d54e125caa8520dfd"
   }
  }
 },
 "nbformat": 4,
 "nbformat_minor": 2
}
